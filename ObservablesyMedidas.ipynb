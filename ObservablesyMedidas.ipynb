{
 "cells": [
  {
   "cell_type": "markdown",
   "id": "eaed6a2e-0b75-456b-aba8-3c43c9e218c4",
   "metadata": {},
   "source": [
    "# SIMULACION DEL PRIMER SISTEMA CUÁNTICO DESCRITO EN LA SECCIÓN 4.1.\n",
    " \n",
    "El sistema consiste en una partícula confinada a un conjunto discreto de posiciones en una línea. El simulador debe permitir especificar el número de posiciones y un vector ket de estado asignando las amplitudes.\n",
    " \n",
    "## 1. El sistema debe calcular la probabilidad de encontrarlo en una posición en particular.\n",
    " \n",
    "## 2. El sistema si se le da otro vector Ket debe buscar la probabilidad de transitar del primer vector al segundo."
   ]
  },
  {
   "cell_type": "code",
   "execution_count": 1,
   "id": "41c7c9d2-9a25-40c9-b70d-5d598d1fa3a3",
   "metadata": {},
   "outputs": [
    {
     "name": "stdout",
     "output_type": "stream",
     "text": [
      "La probabilidad de encontrarlo en una posición dada es\n",
      "0.05263157894736841\n",
      "\n",
      "la probabilidad de transitar del primer vector al segundo es\n",
      "(0.36842105263157887+0.31578947368421045j)\n"
     ]
    }
   ],
   "source": [
    "import numpy as np\n",
    "from numpy import linalg as LA\n",
    " \n",
    "num_of_positions = 4\n",
    "phi = [-3-1j,-2j, 1j, 2]\n",
    "position = 2\n",
    "print(\"La probabilidad de encontrarlo en una posición dada es\")\n",
    "print((LA.norm(phi[position]))**2/((LA.norm(phi))**2)) \n",
    "\n",
    "#def prob_ket(v1,v2):\n",
    "psi = [-3-1j,-2j, 1j, 2]\n",
    "pro_int = np.inner(phi,psi)  # producto interno de los dos vectores\n",
    "normas = (LA.norm(phi))*(LA.norm(psi))  #producto de las 2 normas   \n",
    "print()\n",
    "print(\"la probabilidad de transitar del primer vector al segundo es\")\n",
    "print(pro_int/normas)"
   ]
  },
  {
   "cell_type": "markdown",
   "id": "f97adcbd-7e7d-4f0d-8d60-6ee2be892581",
   "metadata": {},
   "source": [
    "# COMPLETE LOS RETOS DE PROGRAMACIÓN DEL CAPÍTULO 4.\n",
    "## 1. Amplitud de transición. El sistema puede recibir dos vectores y calcular la probabilidad de transitar de el uno al otro después de hacer la observación"
   ]
  },
  {
   "cell_type": "code",
   "execution_count": 3,
   "id": "f65bae46-5f7f-48b7-bd79-50dd4ebc4c37",
   "metadata": {},
   "outputs": [],
   "source": [
    "import numpy as np\n",
    "import cmath\n",
    "\n",
    "def transition_amplitude(vector1, vector2):\n",
    "    # Normalize the two vectors \n",
    "    x1 = ((vector1[0][0] ** 2) + ((vector1[0][1] ** 2)))\n",
    "    norm_a = (cmath.sqrt(x1))\n",
    "    a = float(str(norm_a).replace(\"(\", \"\").replace(\")\", \"\").replace(\"+0j\", \"\"))\n",
    "    x2 = ((vector1[1][0] ** 2) + ((vector1[1][1] ** 2)))\n",
    "    norm_b = (cmath.sqrt(x2))\n",
    "    b = float(str(norm_b).replace(\"(\", \"\").replace(\")\", \"\").replace(\"+0j\", \"\"))\n",
    "    x3 = ((vector1[2][0] ** 2) + ((vector1[2][1] ** 2)))\n",
    "    norm_c = (cmath.sqrt(x3))\n",
    "    c = float(str(norm_c).replace(\"(\", \"\").replace(\")\", \"\").replace(\"+0j\", \"\"))\n",
    "    y1 = ((vector2[0][0] ** 2) + ((vector2[0][1] ** 2)))\n",
    "    norm_d = (cmath.sqrt(y1))\n",
    "    d = float(str(norm_d).replace(\"(\", \"\").replace(\")\", \"\").replace(\"+0j\", \"\"))\n",
    "    y2 = ((vector2[1][0] ** 2) + ((vector2[1][1] ** 2)))\n",
    "    norm_e = (cmath.sqrt(y2))\n",
    "    e = float(str(norm_e).replace(\"(\", \"\").replace(\")\", \"\").replace(\"+0j\", \"\"))\n",
    "    y3 = ((vector1[2][0] ** 2) + ((vector1[2][1] ** 2)))\n",
    "    norm_f = (cmath.sqrt(y3))\n",
    "    f = float(str(norm_f).replace(\"(\", \"\").replace(\")\", \"\").replace(\"+0j\", \"\"))\n",
    "    \n",
    "    print ()\n",
    "    print (\"The normalized first vector is: \", norm_a, norm_b, norm_c)\n",
    "    print (\"The normalized second vector is: \", norm_d, norm_e, norm_f)\n",
    "    \n",
    "    # For the second vector, its adjoint and transpose\n",
    "    vector1_normalized = [(a, (-1)*0), (b, (-1)*0), (c, (-1)*0)]\n",
    "    vector2_normalized = [(d, (-1)*0), (e, (-1)*0), (f, (-1)*0)]\n",
    "    print (\"Its normalized vector is: \", vector1_normalized) \n",
    "    print (\"Its normalized vector is: \", vector2_normalized)\n",
    "    \n",
    "    v1 = np.array([a, b, c])\n",
    "    v2 = np.array([d, e, f])\n",
    "    amplitude = (np.dot(v1, v2) * 0.002)\n",
    "    return amplitude\n"
   ]
  },
  {
   "cell_type": "markdown",
   "id": "1d6e3a51-b59b-4895-a6cc-9b91ea2ea286",
   "metadata": {},
   "source": [
    "## 2. Ahora con una matriz que describa un observable y un vector ket, el sistema revisa que la matriz sea hermitiana, y si lo es, calcula la media y la varianza del observable en el estado dado."
   ]
  },
  {
   "cell_type": "code",
   "execution_count": null,
   "id": "9e63640c-4962-401b-a2d3-3f86dfa078f9",
   "metadata": {},
   "outputs": [],
   "source": [
    "import numpy as np\n",
    "\n",
    "def calculate_media_and_variance(observable_matrix):\n",
    "    # Check if the matrix is Hermitian\n",
    "    transposed_matrix = [(observable_matrix[0][0]), (observable_matrix[1][0]), (observable_matrix[2][0])], \\\n",
    "                        [(observable_matrix[0][1]), (observable_matrix[1][1]), (observable_matrix[2][1])], \\\n",
    "                        [(observable_matrix[0][2]), (observable_matrix[1][2]), (observable_matrix[2][2])]\n",
    "    conjugate_matrix = np.matrix(transposed_matrix)\n",
    "    conjugate_transposed_matrix = np.conj(conjugate_matrix)\n",
    "    \n",
    "    is_hermitian = False\n",
    "    if observable_matrix[0][1] == observable_matrix[1][0] and \\\n",
    "            observable_matrix[0][2] == observable_matrix[2][0] and \\\n",
    "            observable_matrix[1][2] == observable_matrix[2][1]:\n",
    "        is_hermitian = True\n",
    "    \n",
    "    if is_hermitian:\n",
    "        state_vector = [[0 + 1j, 1 + 0j, 0 + 1j],\n",
    "                        [0 + 1j, 1 + 0j, 0 + 1j],\n",
    "                        [0 + 1j, 1 + 0j, 0 + 1j]]\n",
    "        media = (np.dot(observable_matrix, state_vector))\n",
    "        print()\n",
    "        print(\"The media is: \", media)\n",
    "        a = (np.dot(observable_matrix, state_vector))\n",
    "        b = (np.dot(state_vector, observable_matrix))\n",
    "        delta = a - b\n",
    "        print()\n",
    "        print(\"The Δψ(Ω) is: \", delta)\n",
    "        variance = (delta ** 2)\n",
    "        print()\n",
    "        print(\"The variance is: \", variance)\n",
    "    else:\n",
    "        print(\"The matrix is not Hermitian.\")\n",
    "    \n",
    "    return is_hermitian\n"
   ]
  },
  {
   "cell_type": "markdown",
   "id": "6677d3a1-3231-4f4b-8e95-f934f7cd1326",
   "metadata": {},
   "source": [
    "## 3. El sistema calcula los valores propios del observable y la probabilidad de que el sistema transite a alguno de los vectores propios después de la observación."
   ]
  },
  {
   "cell_type": "code",
   "execution_count": null,
   "id": "1d02b06b-fe3a-4eca-9be8-c1f86b962cde",
   "metadata": {},
   "outputs": [],
   "source": [
    "def eigen_values(omega):\n",
    "    # Calculate eigenvalues (Ω)\n",
    "    eigenvalues = np.linalg.eigvals(omega)\n",
    "    \n",
    "    # Probability of the system transitioning to any of the eigenvectors after observation\n",
    "    transition_probability_to_eigenvectors = (np.array(eigenvalues) * omega) * 0.2\n",
    "    \n",
    "    print(eigenvalues)\n",
    "    print(\"The probability for the system to transition is: \\n\", transition_probability_to_eigenvectors)\n",
    "    \n",
    "    return (\"_\")\n"
   ]
  },
  {
   "cell_type": "markdown",
   "id": "78eee0b8-533d-4dce-a118-c466eb06cf84",
   "metadata": {},
   "source": [
    "## 4. Se considera la dinámica del sistema. Ahora con una serie de matrices Un el sistema calcula el estado final a partir de un estado inicial."
   ]
  },
  {
   "cell_type": "code",
   "execution_count": null,
   "id": "9480eb62-ae36-473e-912d-f5d4ab49f0f6",
   "metadata": {},
   "outputs": [],
   "source": [
    "def dynamic_matrix(final_state_matrix):\n",
    "    # Check if the matrix is unitary\n",
    "    r = [(final_state_matrix[1][1]), ((-1)*(final_state_matrix[0][1]))], \\\n",
    "        [((-1)*(final_state_matrix[1][0])), (final_state_matrix[0][0])]\n",
    "    \n",
    "    n1 = (final_state_matrix[0][0] * r[0][0] + final_state_matrix[0][1] * r[1][0])\n",
    "    n2 = (final_state_matrix[0][0] * r[0][1] + final_state_matrix[0][1] * r[1][1])\n",
    "    n3 = (final_state_matrix[1][0] * r[0][0] + final_state_matrix[1][1] * r[1][0])\n",
    "    n4 = (final_state_matrix[1][0] * r[0][1] + final_state_matrix[1][1] * r[1][1])\n",
    "    \n",
    "    if n1 == n4:\n",
    "        is_unitary = True\n",
    "        if n2 == 0 and n3 == 0:\n",
    "            is_unitary = True\n",
    "    else:\n",
    "        is_unitary = False\n",
    "    \n",
    "    if not is_unitary:\n",
    "        print(\"La matriz no es unitaria.\")    \n",
    "    else: \n",
    "        return [(final_state_matrix[1][1]), ((-1)*(final_state_matrix[0][1]))], \\\n",
    "               [((-1)*(final_state_matrix[1][0])), (final_state_matrix[0][0])]\n"
   ]
  }
 ],
 "metadata": {
  "kernelspec": {
   "display_name": "Python 3 (ipykernel)",
   "language": "python",
   "name": "python3"
  },
  "language_info": {
   "codemirror_mode": {
    "name": "ipython",
    "version": 3
   },
   "file_extension": ".py",
   "mimetype": "text/x-python",
   "name": "python",
   "nbconvert_exporter": "python",
   "pygments_lexer": "ipython3",
   "version": "3.12.1"
  }
 },
 "nbformat": 4,
 "nbformat_minor": 5
}
